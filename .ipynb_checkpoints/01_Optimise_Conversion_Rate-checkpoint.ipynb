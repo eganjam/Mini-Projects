{
 "cells": [
  {
   "cell_type": "markdown",
   "metadata": {},
   "source": [
    "# Data Science Conversion Rate Problem\n",
    "\n",
    "Today we gather a huge amount of data on people who purchase our product online & those that don't. This gives us a great opportunity to understand what's working well (& perhaps expand/scale it further) & what's not working so well (& aim to fix it)\n",
    "\n",
    "Challenge Description:\n",
    "- We have data about users who hit our site: whether they converted or not as well as some of their characteristics such as their country, marketing channel, age, whether they are repeat users and the number of pages visited during that session.\n",
    "\n",
    "\n",
    "Your project is to:\n",
    "- Build a model that predicts conversion rate\n",
    "- Compile a list of recommendations for the product team and the marketing team to improve conversion rate"
   ]
  },
  {
   "cell_type": "markdown",
   "metadata": {},
   "source": [
    "## 1. Import"
   ]
  },
  {
   "cell_type": "markdown",
   "metadata": {},
   "source": [
    "### 1.1 Libraries & Data"
   ]
  },
  {
   "cell_type": "code",
   "execution_count": 1,
   "metadata": {
    "collapsed": false
   },
   "outputs": [],
   "source": [
    "import pandas as pd\n",
    "\n",
    "import numpy as np\n",
    "\n",
    "import seaborn as sns\n",
    "\n",
    "import matplotlib.pyplot as plt\n",
    "%matplotlib inline"
   ]
  },
  {
   "cell_type": "code",
   "execution_count": 2,
   "metadata": {
    "collapsed": false
   },
   "outputs": [],
   "source": [
    "# Load in our data\n",
    "\n",
    "df = pd.read_csv(\"01_conversion_rate_data.csv\")"
   ]
  },
  {
   "cell_type": "markdown",
   "metadata": {},
   "source": [
    "### 1.2 Look at table and basic stats"
   ]
  },
  {
   "cell_type": "code",
   "execution_count": 3,
   "metadata": {
    "collapsed": false
   },
   "outputs": [
    {
     "data": {
      "text/html": [
       "<div>\n",
       "<table border=\"1\" class=\"dataframe\">\n",
       "  <thead>\n",
       "    <tr style=\"text-align: right;\">\n",
       "      <th></th>\n",
       "      <th>country</th>\n",
       "      <th>age</th>\n",
       "      <th>new_user</th>\n",
       "      <th>source</th>\n",
       "      <th>total_pages_visited</th>\n",
       "      <th>converted</th>\n",
       "    </tr>\n",
       "  </thead>\n",
       "  <tbody>\n",
       "    <tr>\n",
       "      <th>0</th>\n",
       "      <td>UK</td>\n",
       "      <td>25</td>\n",
       "      <td>1</td>\n",
       "      <td>Ads</td>\n",
       "      <td>1</td>\n",
       "      <td>0</td>\n",
       "    </tr>\n",
       "    <tr>\n",
       "      <th>1</th>\n",
       "      <td>US</td>\n",
       "      <td>23</td>\n",
       "      <td>1</td>\n",
       "      <td>Seo</td>\n",
       "      <td>5</td>\n",
       "      <td>0</td>\n",
       "    </tr>\n",
       "    <tr>\n",
       "      <th>2</th>\n",
       "      <td>US</td>\n",
       "      <td>28</td>\n",
       "      <td>1</td>\n",
       "      <td>Seo</td>\n",
       "      <td>4</td>\n",
       "      <td>0</td>\n",
       "    </tr>\n",
       "    <tr>\n",
       "      <th>3</th>\n",
       "      <td>China</td>\n",
       "      <td>39</td>\n",
       "      <td>1</td>\n",
       "      <td>Seo</td>\n",
       "      <td>5</td>\n",
       "      <td>0</td>\n",
       "    </tr>\n",
       "    <tr>\n",
       "      <th>4</th>\n",
       "      <td>US</td>\n",
       "      <td>30</td>\n",
       "      <td>1</td>\n",
       "      <td>Seo</td>\n",
       "      <td>6</td>\n",
       "      <td>0</td>\n",
       "    </tr>\n",
       "  </tbody>\n",
       "</table>\n",
       "</div>"
      ],
      "text/plain": [
       "  country  age  new_user source  total_pages_visited  converted\n",
       "0      UK   25         1    Ads                    1          0\n",
       "1      US   23         1    Seo                    5          0\n",
       "2      US   28         1    Seo                    4          0\n",
       "3   China   39         1    Seo                    5          0\n",
       "4      US   30         1    Seo                    6          0"
      ]
     },
     "execution_count": 3,
     "metadata": {},
     "output_type": "execute_result"
    }
   ],
   "source": [
    "df.head()"
   ]
  },
  {
   "cell_type": "code",
   "execution_count": 4,
   "metadata": {
    "collapsed": false
   },
   "outputs": [
    {
     "data": {
      "text/html": [
       "<div>\n",
       "<table border=\"1\" class=\"dataframe\">\n",
       "  <thead>\n",
       "    <tr style=\"text-align: right;\">\n",
       "      <th></th>\n",
       "      <th>age</th>\n",
       "      <th>new_user</th>\n",
       "      <th>total_pages_visited</th>\n",
       "      <th>converted</th>\n",
       "    </tr>\n",
       "  </thead>\n",
       "  <tbody>\n",
       "    <tr>\n",
       "      <th>count</th>\n",
       "      <td>316200.000000</td>\n",
       "      <td>316200.000000</td>\n",
       "      <td>316200.000000</td>\n",
       "      <td>316200.000000</td>\n",
       "    </tr>\n",
       "    <tr>\n",
       "      <th>mean</th>\n",
       "      <td>30.569858</td>\n",
       "      <td>0.685465</td>\n",
       "      <td>4.872966</td>\n",
       "      <td>0.032258</td>\n",
       "    </tr>\n",
       "    <tr>\n",
       "      <th>std</th>\n",
       "      <td>8.271802</td>\n",
       "      <td>0.464331</td>\n",
       "      <td>3.341104</td>\n",
       "      <td>0.176685</td>\n",
       "    </tr>\n",
       "    <tr>\n",
       "      <th>min</th>\n",
       "      <td>17.000000</td>\n",
       "      <td>0.000000</td>\n",
       "      <td>1.000000</td>\n",
       "      <td>0.000000</td>\n",
       "    </tr>\n",
       "    <tr>\n",
       "      <th>25%</th>\n",
       "      <td>24.000000</td>\n",
       "      <td>0.000000</td>\n",
       "      <td>2.000000</td>\n",
       "      <td>0.000000</td>\n",
       "    </tr>\n",
       "    <tr>\n",
       "      <th>50%</th>\n",
       "      <td>30.000000</td>\n",
       "      <td>1.000000</td>\n",
       "      <td>4.000000</td>\n",
       "      <td>0.000000</td>\n",
       "    </tr>\n",
       "    <tr>\n",
       "      <th>75%</th>\n",
       "      <td>36.000000</td>\n",
       "      <td>1.000000</td>\n",
       "      <td>7.000000</td>\n",
       "      <td>0.000000</td>\n",
       "    </tr>\n",
       "    <tr>\n",
       "      <th>max</th>\n",
       "      <td>123.000000</td>\n",
       "      <td>1.000000</td>\n",
       "      <td>29.000000</td>\n",
       "      <td>1.000000</td>\n",
       "    </tr>\n",
       "  </tbody>\n",
       "</table>\n",
       "</div>"
      ],
      "text/plain": [
       "                 age       new_user  total_pages_visited      converted\n",
       "count  316200.000000  316200.000000        316200.000000  316200.000000\n",
       "mean       30.569858       0.685465             4.872966       0.032258\n",
       "std         8.271802       0.464331             3.341104       0.176685\n",
       "min        17.000000       0.000000             1.000000       0.000000\n",
       "25%        24.000000       0.000000             2.000000       0.000000\n",
       "50%        30.000000       1.000000             4.000000       0.000000\n",
       "75%        36.000000       1.000000             7.000000       0.000000\n",
       "max       123.000000       1.000000            29.000000       1.000000"
      ]
     },
     "execution_count": 4,
     "metadata": {},
     "output_type": "execute_result"
    }
   ],
   "source": [
    "df.describe()"
   ]
  },
  {
   "cell_type": "markdown",
   "metadata": {},
   "source": [
    "#### Looking at the above:\n",
    "- For the columns:\n",
    "    - country: user country\n",
    "    - age: user age (self reported)\n",
    "    - new_user: 0 if the user already has an account, 1 if creating a new account\n",
    "    - source: marketing channel\n",
    "        - Ads: came to the site via an advertisement\n",
    "        - Seo: came to the site via a search engine\n",
    "        - Direct : came to the site directly (typing url into browser)\n",
    "    - total_pages_visited: number of pages the user visited during their session - proxy for time spent on the website \n",
    "    - converted: 0 if the user didn't purchase/convert, 1 if the user did purchase/convert\n",
    "\n",
    "- 316,200 total rows with 69% of those events/people being new users\n",
    "- The conversion rate is 3.2% (looking at the mean of the converted column)    "
   ]
  },
  {
   "cell_type": "markdown",
   "metadata": {},
   "source": [
    "### 1.3 Anomolous Age's"
   ]
  },
  {
   "cell_type": "markdown",
   "metadata": {},
   "source": [
    "Looking at the summary for the \"age\" data we see that there is an outlier at 123 years, let's investigate further"
   ]
  },
  {
   "cell_type": "code",
   "execution_count": 5,
   "metadata": {
    "collapsed": false
   },
   "outputs": [
    {
     "data": {
      "text/html": [
       "<div>\n",
       "<table border=\"1\" class=\"dataframe\">\n",
       "  <thead>\n",
       "    <tr style=\"text-align: right;\">\n",
       "      <th></th>\n",
       "      <th>country</th>\n",
       "      <th>age</th>\n",
       "      <th>new_user</th>\n",
       "      <th>source</th>\n",
       "      <th>total_pages_visited</th>\n",
       "      <th>converted</th>\n",
       "    </tr>\n",
       "  </thead>\n",
       "  <tbody>\n",
       "    <tr>\n",
       "      <th>90928</th>\n",
       "      <td>Germany</td>\n",
       "      <td>123</td>\n",
       "      <td>0</td>\n",
       "      <td>Seo</td>\n",
       "      <td>15</td>\n",
       "      <td>1</td>\n",
       "    </tr>\n",
       "    <tr>\n",
       "      <th>295581</th>\n",
       "      <td>UK</td>\n",
       "      <td>111</td>\n",
       "      <td>0</td>\n",
       "      <td>Ads</td>\n",
       "      <td>10</td>\n",
       "      <td>1</td>\n",
       "    </tr>\n",
       "  </tbody>\n",
       "</table>\n",
       "</div>"
      ],
      "text/plain": [
       "        country  age  new_user source  total_pages_visited  converted\n",
       "90928   Germany  123         0    Seo                   15          1\n",
       "295581       UK  111         0    Ads                   10          1"
      ]
     },
     "execution_count": 5,
     "metadata": {},
     "output_type": "execute_result"
    }
   ],
   "source": [
    "df[df[\"age\"]>90]"
   ]
  },
  {
   "cell_type": "markdown",
   "metadata": {},
   "source": [
    "#### As there are only 2 users with these anomalous ages, we will simply remove them from the dataset and move on.  "
   ]
  },
  {
   "cell_type": "code",
   "execution_count": 6,
   "metadata": {
    "collapsed": true
   },
   "outputs": [],
   "source": [
    "df = df[df[\"age\"]<90]"
   ]
  },
  {
   "cell_type": "markdown",
   "metadata": {},
   "source": [
    "## 2. Exploratory Data Analysis"
   ]
  },
  {
   "cell_type": "markdown",
   "metadata": {},
   "source": [
    "### 2.1 Converted vs. Non-Converted\n",
    "- Compare converted and non-converted users"
   ]
  },
  {
   "cell_type": "code",
   "execution_count": 7,
   "metadata": {
    "collapsed": true
   },
   "outputs": [],
   "source": [
    "converted = df[df['converted']==1]\n",
    "\n",
    "non_converted = df[df['converted']==0]"
   ]
  },
  {
   "cell_type": "code",
   "execution_count": 8,
   "metadata": {
    "collapsed": false
   },
   "outputs": [
    {
     "data": {
      "text/html": [
       "<div>\n",
       "<table border=\"1\" class=\"dataframe\">\n",
       "  <thead>\n",
       "    <tr style=\"text-align: right;\">\n",
       "      <th></th>\n",
       "      <th></th>\n",
       "      <th>age</th>\n",
       "      <th>new_user</th>\n",
       "      <th>total_pages_visited</th>\n",
       "    </tr>\n",
       "    <tr>\n",
       "      <th>converted</th>\n",
       "      <th></th>\n",
       "      <th></th>\n",
       "      <th></th>\n",
       "      <th></th>\n",
       "    </tr>\n",
       "  </thead>\n",
       "  <tbody>\n",
       "    <tr>\n",
       "      <th rowspan=\"8\" valign=\"top\">0</th>\n",
       "      <th>count</th>\n",
       "      <td>306000.000000</td>\n",
       "      <td>306000.000000</td>\n",
       "      <td>306000.000000</td>\n",
       "    </tr>\n",
       "    <tr>\n",
       "      <th>mean</th>\n",
       "      <td>30.703961</td>\n",
       "      <td>0.698382</td>\n",
       "      <td>4.550281</td>\n",
       "    </tr>\n",
       "    <tr>\n",
       "      <th>std</th>\n",
       "      <td>8.275779</td>\n",
       "      <td>0.458961</td>\n",
       "      <td>2.789910</td>\n",
       "    </tr>\n",
       "    <tr>\n",
       "      <th>min</th>\n",
       "      <td>17.000000</td>\n",
       "      <td>0.000000</td>\n",
       "      <td>1.000000</td>\n",
       "    </tr>\n",
       "    <tr>\n",
       "      <th>25%</th>\n",
       "      <td>24.000000</td>\n",
       "      <td>0.000000</td>\n",
       "      <td>2.000000</td>\n",
       "    </tr>\n",
       "    <tr>\n",
       "      <th>50%</th>\n",
       "      <td>30.000000</td>\n",
       "      <td>1.000000</td>\n",
       "      <td>4.000000</td>\n",
       "    </tr>\n",
       "    <tr>\n",
       "      <th>75%</th>\n",
       "      <td>36.000000</td>\n",
       "      <td>1.000000</td>\n",
       "      <td>6.000000</td>\n",
       "    </tr>\n",
       "    <tr>\n",
       "      <th>max</th>\n",
       "      <td>79.000000</td>\n",
       "      <td>1.000000</td>\n",
       "      <td>20.000000</td>\n",
       "    </tr>\n",
       "    <tr>\n",
       "      <th rowspan=\"8\" valign=\"top\">1</th>\n",
       "      <th>count</th>\n",
       "      <td>10198.000000</td>\n",
       "      <td>10198.000000</td>\n",
       "      <td>10198.000000</td>\n",
       "    </tr>\n",
       "    <tr>\n",
       "      <th>mean</th>\n",
       "      <td>26.529025</td>\n",
       "      <td>0.298000</td>\n",
       "      <td>14.553932</td>\n",
       "    </tr>\n",
       "    <tr>\n",
       "      <th>std</th>\n",
       "      <td>6.937305</td>\n",
       "      <td>0.457402</td>\n",
       "      <td>3.963522</td>\n",
       "    </tr>\n",
       "    <tr>\n",
       "      <th>min</th>\n",
       "      <td>17.000000</td>\n",
       "      <td>0.000000</td>\n",
       "      <td>2.000000</td>\n",
       "    </tr>\n",
       "    <tr>\n",
       "      <th>25%</th>\n",
       "      <td>21.000000</td>\n",
       "      <td>0.000000</td>\n",
       "      <td>12.000000</td>\n",
       "    </tr>\n",
       "    <tr>\n",
       "      <th>50%</th>\n",
       "      <td>25.000000</td>\n",
       "      <td>0.000000</td>\n",
       "      <td>14.000000</td>\n",
       "    </tr>\n",
       "    <tr>\n",
       "      <th>75%</th>\n",
       "      <td>31.000000</td>\n",
       "      <td>1.000000</td>\n",
       "      <td>17.000000</td>\n",
       "    </tr>\n",
       "    <tr>\n",
       "      <th>max</th>\n",
       "      <td>61.000000</td>\n",
       "      <td>1.000000</td>\n",
       "      <td>29.000000</td>\n",
       "    </tr>\n",
       "  </tbody>\n",
       "</table>\n",
       "</div>"
      ],
      "text/plain": [
       "                           age       new_user  total_pages_visited\n",
       "converted                                                         \n",
       "0         count  306000.000000  306000.000000        306000.000000\n",
       "          mean       30.703961       0.698382             4.550281\n",
       "          std         8.275779       0.458961             2.789910\n",
       "          min        17.000000       0.000000             1.000000\n",
       "          25%        24.000000       0.000000             2.000000\n",
       "          50%        30.000000       1.000000             4.000000\n",
       "          75%        36.000000       1.000000             6.000000\n",
       "          max        79.000000       1.000000            20.000000\n",
       "1         count   10198.000000   10198.000000         10198.000000\n",
       "          mean       26.529025       0.298000            14.553932\n",
       "          std         6.937305       0.457402             3.963522\n",
       "          min        17.000000       0.000000             2.000000\n",
       "          25%        21.000000       0.000000            12.000000\n",
       "          50%        25.000000       0.000000            14.000000\n",
       "          75%        31.000000       1.000000            17.000000\n",
       "          max        61.000000       1.000000            29.000000"
      ]
     },
     "execution_count": 8,
     "metadata": {},
     "output_type": "execute_result"
    }
   ],
   "source": [
    "df.groupby(\"converted\").describe()"
   ]
  },
  {
   "cell_type": "markdown",
   "metadata": {},
   "source": [
    "#### Converted vs. Non-Converted stats:\n",
    "- Average age of 27 for converted users and 31 for non-converted\n",
    "- 30% of users who convert are new to the site, whilst 60% of the users who don't convert are new to the site\n",
    "- Converters visit an average of 15 pages, 5 pages for non-converters"
   ]
  },
  {
   "cell_type": "markdown",
   "metadata": {},
   "source": [
    "### 2.2 Different countries\n",
    "- Group the dataset by country and compare stats"
   ]
  },
  {
   "cell_type": "code",
   "execution_count": 9,
   "metadata": {
    "collapsed": false
   },
   "outputs": [
    {
     "data": {
      "text/html": [
       "<div>\n",
       "<table border=\"1\" class=\"dataframe\">\n",
       "  <thead>\n",
       "    <tr style=\"text-align: right;\">\n",
       "      <th></th>\n",
       "      <th></th>\n",
       "      <th>age</th>\n",
       "      <th>converted</th>\n",
       "      <th>new_user</th>\n",
       "      <th>total_pages_visited</th>\n",
       "    </tr>\n",
       "    <tr>\n",
       "      <th>country</th>\n",
       "      <th></th>\n",
       "      <th></th>\n",
       "      <th></th>\n",
       "      <th></th>\n",
       "      <th></th>\n",
       "    </tr>\n",
       "  </thead>\n",
       "  <tbody>\n",
       "    <tr>\n",
       "      <th rowspan=\"8\" valign=\"top\">China</th>\n",
       "      <th>count</th>\n",
       "      <td>76602.000000</td>\n",
       "      <td>76602.000000</td>\n",
       "      <td>76602.000000</td>\n",
       "      <td>76602.000000</td>\n",
       "    </tr>\n",
       "    <tr>\n",
       "      <th>mean</th>\n",
       "      <td>30.672972</td>\n",
       "      <td>0.001332</td>\n",
       "      <td>0.698520</td>\n",
       "      <td>4.553523</td>\n",
       "    </tr>\n",
       "    <tr>\n",
       "      <th>std</th>\n",
       "      <td>8.283862</td>\n",
       "      <td>0.036466</td>\n",
       "      <td>0.458904</td>\n",
       "      <td>2.804987</td>\n",
       "    </tr>\n",
       "    <tr>\n",
       "      <th>min</th>\n",
       "      <td>17.000000</td>\n",
       "      <td>0.000000</td>\n",
       "      <td>0.000000</td>\n",
       "      <td>1.000000</td>\n",
       "    </tr>\n",
       "    <tr>\n",
       "      <th>25%</th>\n",
       "      <td>24.000000</td>\n",
       "      <td>0.000000</td>\n",
       "      <td>0.000000</td>\n",
       "      <td>2.000000</td>\n",
       "    </tr>\n",
       "    <tr>\n",
       "      <th>50%</th>\n",
       "      <td>30.000000</td>\n",
       "      <td>0.000000</td>\n",
       "      <td>1.000000</td>\n",
       "      <td>4.000000</td>\n",
       "    </tr>\n",
       "    <tr>\n",
       "      <th>75%</th>\n",
       "      <td>36.000000</td>\n",
       "      <td>0.000000</td>\n",
       "      <td>1.000000</td>\n",
       "      <td>6.000000</td>\n",
       "    </tr>\n",
       "    <tr>\n",
       "      <th>max</th>\n",
       "      <td>69.000000</td>\n",
       "      <td>1.000000</td>\n",
       "      <td>1.000000</td>\n",
       "      <td>26.000000</td>\n",
       "    </tr>\n",
       "    <tr>\n",
       "      <th rowspan=\"8\" valign=\"top\">Germany</th>\n",
       "      <th>count</th>\n",
       "      <td>13055.000000</td>\n",
       "      <td>13055.000000</td>\n",
       "      <td>13055.000000</td>\n",
       "      <td>13055.000000</td>\n",
       "    </tr>\n",
       "    <tr>\n",
       "      <th>mean</th>\n",
       "      <td>30.442895</td>\n",
       "      <td>0.062428</td>\n",
       "      <td>0.677288</td>\n",
       "      <td>5.189966</td>\n",
       "    </tr>\n",
       "    <tr>\n",
       "      <th>std</th>\n",
       "      <td>8.249662</td>\n",
       "      <td>0.241941</td>\n",
       "      <td>0.467531</td>\n",
       "      <td>3.762064</td>\n",
       "    </tr>\n",
       "    <tr>\n",
       "      <th>min</th>\n",
       "      <td>17.000000</td>\n",
       "      <td>0.000000</td>\n",
       "      <td>0.000000</td>\n",
       "      <td>1.000000</td>\n",
       "    </tr>\n",
       "    <tr>\n",
       "      <th>25%</th>\n",
       "      <td>24.000000</td>\n",
       "      <td>0.000000</td>\n",
       "      <td>0.000000</td>\n",
       "      <td>2.000000</td>\n",
       "    </tr>\n",
       "    <tr>\n",
       "      <th>50%</th>\n",
       "      <td>30.000000</td>\n",
       "      <td>0.000000</td>\n",
       "      <td>1.000000</td>\n",
       "      <td>4.000000</td>\n",
       "    </tr>\n",
       "    <tr>\n",
       "      <th>75%</th>\n",
       "      <td>36.000000</td>\n",
       "      <td>0.000000</td>\n",
       "      <td>1.000000</td>\n",
       "      <td>7.000000</td>\n",
       "    </tr>\n",
       "    <tr>\n",
       "      <th>max</th>\n",
       "      <td>64.000000</td>\n",
       "      <td>1.000000</td>\n",
       "      <td>1.000000</td>\n",
       "      <td>27.000000</td>\n",
       "    </tr>\n",
       "    <tr>\n",
       "      <th rowspan=\"8\" valign=\"top\">UK</th>\n",
       "      <th>count</th>\n",
       "      <td>48449.000000</td>\n",
       "      <td>48449.000000</td>\n",
       "      <td>48449.000000</td>\n",
       "      <td>48449.000000</td>\n",
       "    </tr>\n",
       "    <tr>\n",
       "      <th>mean</th>\n",
       "      <td>30.449875</td>\n",
       "      <td>0.052612</td>\n",
       "      <td>0.679849</td>\n",
       "      <td>5.082066</td>\n",
       "    </tr>\n",
       "    <tr>\n",
       "      <th>std</th>\n",
       "      <td>8.236950</td>\n",
       "      <td>0.223260</td>\n",
       "      <td>0.466539</td>\n",
       "      <td>3.630731</td>\n",
       "    </tr>\n",
       "    <tr>\n",
       "      <th>min</th>\n",
       "      <td>17.000000</td>\n",
       "      <td>0.000000</td>\n",
       "      <td>0.000000</td>\n",
       "      <td>1.000000</td>\n",
       "    </tr>\n",
       "    <tr>\n",
       "      <th>25%</th>\n",
       "      <td>24.000000</td>\n",
       "      <td>0.000000</td>\n",
       "      <td>0.000000</td>\n",
       "      <td>2.000000</td>\n",
       "    </tr>\n",
       "    <tr>\n",
       "      <th>50%</th>\n",
       "      <td>30.000000</td>\n",
       "      <td>0.000000</td>\n",
       "      <td>1.000000</td>\n",
       "      <td>4.000000</td>\n",
       "    </tr>\n",
       "    <tr>\n",
       "      <th>75%</th>\n",
       "      <td>36.000000</td>\n",
       "      <td>0.000000</td>\n",
       "      <td>1.000000</td>\n",
       "      <td>7.000000</td>\n",
       "    </tr>\n",
       "    <tr>\n",
       "      <th>max</th>\n",
       "      <td>70.000000</td>\n",
       "      <td>1.000000</td>\n",
       "      <td>1.000000</td>\n",
       "      <td>27.000000</td>\n",
       "    </tr>\n",
       "    <tr>\n",
       "      <th rowspan=\"8\" valign=\"top\">US</th>\n",
       "      <th>count</th>\n",
       "      <td>178092.000000</td>\n",
       "      <td>178092.000000</td>\n",
       "      <td>178092.000000</td>\n",
       "      <td>178092.000000</td>\n",
       "    </tr>\n",
       "    <tr>\n",
       "      <th>mean</th>\n",
       "      <td>30.566482</td>\n",
       "      <td>0.037801</td>\n",
       "      <td>0.681985</td>\n",
       "      <td>4.930160</td>\n",
       "    </tr>\n",
       "    <tr>\n",
       "      <th>std</th>\n",
       "      <td>8.272128</td>\n",
       "      <td>0.190714</td>\n",
       "      <td>0.465707</td>\n",
       "      <td>3.427085</td>\n",
       "    </tr>\n",
       "    <tr>\n",
       "      <th>min</th>\n",
       "      <td>17.000000</td>\n",
       "      <td>0.000000</td>\n",
       "      <td>0.000000</td>\n",
       "      <td>1.000000</td>\n",
       "    </tr>\n",
       "    <tr>\n",
       "      <th>25%</th>\n",
       "      <td>24.000000</td>\n",
       "      <td>0.000000</td>\n",
       "      <td>0.000000</td>\n",
       "      <td>2.000000</td>\n",
       "    </tr>\n",
       "    <tr>\n",
       "      <th>50%</th>\n",
       "      <td>30.000000</td>\n",
       "      <td>0.000000</td>\n",
       "      <td>1.000000</td>\n",
       "      <td>4.000000</td>\n",
       "    </tr>\n",
       "    <tr>\n",
       "      <th>75%</th>\n",
       "      <td>36.000000</td>\n",
       "      <td>0.000000</td>\n",
       "      <td>1.000000</td>\n",
       "      <td>7.000000</td>\n",
       "    </tr>\n",
       "    <tr>\n",
       "      <th>max</th>\n",
       "      <td>79.000000</td>\n",
       "      <td>1.000000</td>\n",
       "      <td>1.000000</td>\n",
       "      <td>29.000000</td>\n",
       "    </tr>\n",
       "  </tbody>\n",
       "</table>\n",
       "</div>"
      ],
      "text/plain": [
       "                         age      converted       new_user  \\\n",
       "country                                                      \n",
       "China   count   76602.000000   76602.000000   76602.000000   \n",
       "        mean       30.672972       0.001332       0.698520   \n",
       "        std         8.283862       0.036466       0.458904   \n",
       "        min        17.000000       0.000000       0.000000   \n",
       "        25%        24.000000       0.000000       0.000000   \n",
       "        50%        30.000000       0.000000       1.000000   \n",
       "        75%        36.000000       0.000000       1.000000   \n",
       "        max        69.000000       1.000000       1.000000   \n",
       "Germany count   13055.000000   13055.000000   13055.000000   \n",
       "        mean       30.442895       0.062428       0.677288   \n",
       "        std         8.249662       0.241941       0.467531   \n",
       "        min        17.000000       0.000000       0.000000   \n",
       "        25%        24.000000       0.000000       0.000000   \n",
       "        50%        30.000000       0.000000       1.000000   \n",
       "        75%        36.000000       0.000000       1.000000   \n",
       "        max        64.000000       1.000000       1.000000   \n",
       "UK      count   48449.000000   48449.000000   48449.000000   \n",
       "        mean       30.449875       0.052612       0.679849   \n",
       "        std         8.236950       0.223260       0.466539   \n",
       "        min        17.000000       0.000000       0.000000   \n",
       "        25%        24.000000       0.000000       0.000000   \n",
       "        50%        30.000000       0.000000       1.000000   \n",
       "        75%        36.000000       0.000000       1.000000   \n",
       "        max        70.000000       1.000000       1.000000   \n",
       "US      count  178092.000000  178092.000000  178092.000000   \n",
       "        mean       30.566482       0.037801       0.681985   \n",
       "        std         8.272128       0.190714       0.465707   \n",
       "        min        17.000000       0.000000       0.000000   \n",
       "        25%        24.000000       0.000000       0.000000   \n",
       "        50%        30.000000       0.000000       1.000000   \n",
       "        75%        36.000000       0.000000       1.000000   \n",
       "        max        79.000000       1.000000       1.000000   \n",
       "\n",
       "               total_pages_visited  \n",
       "country                             \n",
       "China   count         76602.000000  \n",
       "        mean              4.553523  \n",
       "        std               2.804987  \n",
       "        min               1.000000  \n",
       "        25%               2.000000  \n",
       "        50%               4.000000  \n",
       "        75%               6.000000  \n",
       "        max              26.000000  \n",
       "Germany count         13055.000000  \n",
       "        mean              5.189966  \n",
       "        std               3.762064  \n",
       "        min               1.000000  \n",
       "        25%               2.000000  \n",
       "        50%               4.000000  \n",
       "        75%               7.000000  \n",
       "        max              27.000000  \n",
       "UK      count         48449.000000  \n",
       "        mean              5.082066  \n",
       "        std               3.630731  \n",
       "        min               1.000000  \n",
       "        25%               2.000000  \n",
       "        50%               4.000000  \n",
       "        75%               7.000000  \n",
       "        max              27.000000  \n",
       "US      count        178092.000000  \n",
       "        mean              4.930160  \n",
       "        std               3.427085  \n",
       "        min               1.000000  \n",
       "        25%               2.000000  \n",
       "        50%               4.000000  \n",
       "        75%               7.000000  \n",
       "        max              29.000000  "
      ]
     },
     "execution_count": 9,
     "metadata": {},
     "output_type": "execute_result"
    }
   ],
   "source": [
    "df.groupby(\"country\").describe()"
   ]
  },
  {
   "cell_type": "code",
   "execution_count": 10,
   "metadata": {
    "collapsed": false
   },
   "outputs": [
    {
     "data": {
      "text/plain": [
       "<matplotlib.text.Text at 0xb01c9e8>"
      ]
     },
     "execution_count": 10,
     "metadata": {},
     "output_type": "execute_result"
    },
    {
     "data": {
      "image/png": "[encoded data removed]",
      "text/plain": [
       "<matplotlib.figure.Figure at 0xafc6898>"
      ]
     },
     "metadata": {},
     "output_type": "display_data"
    }
   ],
   "source": [
    "# let's create some plots that show the user breakdown per country\n",
    "import matplotlib.patches as mpatches\n",
    "\n",
    "# create some color patches and labels\n",
    "china_leg = mpatches.Patch(color='r', label='China')\n",
    "germany_leg = mpatches.Patch(color='y', label='Germany')\n",
    "uk_leg = mpatches.Patch(color='g', label='UK')\n",
    "us_leg = mpatches.Patch(color='b', label='US')\n",
    "\n",
    "# create subplots of correct size\n",
    "fig, axes = plt.subplots(nrows=2, ncols=1, figsize=(7,10))\n",
    "fig.tight_layout()\n",
    "plt.subplots_adjust(hspace = 0.3) # adjust the space between the subplots\n",
    "\n",
    "# plot total users per country\n",
    "df.groupby(\"country\").age.count().plot(kind=\"bar\", title=\"TOTAL NUMBER OF USERS PER COUNTRY\",\\\n",
    "                                       color=['r','y','g','b'], ax=axes[0], rot=0)\n",
    "\n",
    "# plot conversion rate per country\n",
    "df.groupby(\"country\").converted.mean().plot(kind=\"bar\", title=\"CONVERSION RATE PER COUNTRY\",\\\n",
    "                                            color=['r','y','g','b'], ax=axes[1], rot=0)\n",
    "\n",
    "# create an identical legend for each plot\n",
    "axes[0].legend(loc=2, handles=[china_leg, germany_leg, uk_leg, us_leg])\n",
    "axes[1].legend(loc=2, handles=[china_leg, germany_leg, uk_leg, us_leg])\n",
    "\n",
    "# set y-axis labels\n",
    "axes[0].set_ylabel(\"Number of Users\")\n",
    "axes[1].set_ylabel(\"Conversion Rate\")"
   ]
  },
  {
   "cell_type": "code",
   "execution_count": 11,
   "metadata": {
    "collapsed": false
   },
   "outputs": [
    {
     "data": {
      "text/plain": [
       "(array([0, 1, 2, 3]), <a list of 4 Text xticklabel objects>)"
      ]
     },
     "execution_count": 11,
     "metadata": {},
     "output_type": "execute_result"
    },
    {
     "data": {
      "image/png": "[encoded data removed]",
      "text/plain": [
       "<matplotlib.figure.Figure at 0xafc66a0>"
      ]
     },
     "metadata": {},
     "output_type": "display_data"
    }
   ],
   "source": [
    "# create a plot combining the information found above\n",
    "\n",
    "# set the plot size\n",
    "plt.figure(figsize=(8,6))\n",
    "\n",
    "# plot total users\n",
    "df.groupby(\"country\").converted.count().plot(kind=\"bar\",\\\n",
    "                                title=\"Total Users are Opaque & Converted Users are Solid\",\\\n",
    "                                color=['r', 'y', 'g', 'b'],\\\n",
    "                                alpha=0.5)\n",
    "\n",
    "# plot converted users\n",
    "df[df[\"converted\"]==1].groupby(\"country\").converted.count().plot(kind=\"bar\",\\\n",
    "                                color=['r', 'y', 'g', 'b'])\n",
    "# add a coloured legend\n",
    "plt.legend(loc=2, handles=[china_leg, germany_leg, uk_leg, us_leg])\n",
    "plt.ylabel(\"Number of Users\")\n",
    "plt.xticks(rotation='horizontal')"
   ]
  },
  {
   "cell_type": "markdown",
   "metadata": {},
   "source": [
    "#### Looking at the above:\n",
    "- The US and China are the biggest users of the site.\n",
    "- However China has a seriously low conversion rate - something must be wrong with the Chinese version of the site - perhaps incorrect translation?\n",
    "- Germany has an excellent conversion rate - definitely worth investigating"
   ]
  },
  {
   "cell_type": "markdown",
   "metadata": {},
   "source": [
    "### 2.3 Number of pages visited\n",
    "- How does the number of pages visited affect conversion?"
   ]
  },
  {
   "cell_type": "code",
   "execution_count": 12,
   "metadata": {
    "collapsed": false
   },
   "outputs": [
    {
     "data": {
      "image/png": "[encoded data removed]",
      "text/plain": [
       "<matplotlib.figure.Figure at 0xafc6160>"
      ]
     },
     "metadata": {},
     "output_type": "display_data"
    }
   ],
   "source": [
    "# Plot conversion rate vs. num pages visited\n",
    "\n",
    "fig = plt.figure(figsize=(8,6))\n",
    "plt.plot(df.groupby(\"total_pages_visited\").converted.mean())\n",
    "plt.margins(x=0.1,y=0.1)\n",
    "plt.title(\"Number of pages visited - effect on conversion\")\n",
    "plt.ylabel(\"Conversion Rate\")\n",
    "plt.xlabel(\"Number of pages visited\")\n",
    "\n",
    "plt.show()"
   ]
  },
  {
   "cell_type": "markdown",
   "metadata": {},
   "source": [
    "#### Looking at the above:\n",
    "- Clicking more pages on the site increases the chances of conversion\n",
    "- Extra pages associated with user conversion process at least partially responsible"
   ]
  },
  {
   "cell_type": "markdown",
   "metadata": {},
   "source": [
    "### 2.4 Effect of age on conversion\n",
    "- Graph1 - using plotly\n",
    "- Graph2 - using matplotlib"
   ]
  },
  {
   "cell_type": "code",
   "execution_count": 13,
   "metadata": {
    "collapsed": false
   },
   "outputs": [
    {
     "name": "stderr",
     "output_type": "stream",
     "text": [
      "C:\\Users\\James\\Anaconda2\\lib\\site-packages\\plotly\\plotly\\plotly.py:236: UserWarning:\n",
      "\n",
      "Woah there! Look at all those points! Due to browser limitations, the Plotly SVG drawing functions have a hard time graphing more than 500k data points for line charts, or 40k points for other types of charts. Here are some suggestions:\n",
      "(1) Use the `plotly.graph_objs.Scattergl` trace object to generate a WebGl graph.\n",
      "(2) Trying using the image API to return an image instead of a graph URL\n",
      "(3) Use matplotlib\n",
      "(4) See if you can create your visualization with fewer data points\n",
      "\n",
      "If the visualization you're using aggregates points (e.g., box plot, histogram, etc.) you can disregard this warning.\n",
      "\n"
     ]
    },
    {
     "data": {
      "text/html": [
       "<iframe id=\"igraph\" scrolling=\"no\" style=\"border:none;\" seamless=\"seamless\" src=\"https://plot.ly/~eganjam/110.embed\" height=\"525px\" width=\"100%\"></iframe>"
      ],
      "text/plain": [
       "<plotly.tools.PlotlyDisplay object>"
      ]
     },
     "execution_count": 13,
     "metadata": {},
     "output_type": "execute_result"
    }
   ],
   "source": [
    "import plotly.plotly as py\n",
    "import plotly.graph_objs as go\n",
    "\n",
    "trace1 = go.Histogram(\n",
    "    x=df[df[\"converted\"]==1].age,\n",
    "    opacity=0.5, histnorm='probability',\n",
    "    name='Converted User'\n",
    ")\n",
    "\n",
    "trace2 = go.Histogram(\n",
    "    x=df[df[\"converted\"]==0].age,\n",
    "    opacity=0.5, histnorm='probability',\n",
    "    name='Non-Converted User'\n",
    ")\n",
    "\n",
    "data = [trace1, trace2]\n",
    "\n",
    "layout = go.Layout(\n",
    "    title='Age Profile of Converted vs. Non-Converted Users',\n",
    "    barmode='overlay',\n",
    "    xaxis=dict(title='Age'),\n",
    "    \n",
    "    yaxis=dict(title='Normalized Frequency'),\n",
    "\n",
    "    # Mean lines\n",
    "    shapes= [{'line': {'color': '#0099FF', 'dash': 'solid', 'width': 1},\n",
    "    'type': 'line',\n",
    "    'x0': df[df[\"converted\"]==1].age.mean(),\n",
    "    'x1': df[df[\"converted\"]==1].age.mean(),\n",
    "    'xref': 'x',\n",
    "    'y0': 0,\n",
    "    'y1': 0.9,\n",
    "    'yref': 'paper'},\n",
    "   {'line': {'color': '#FDAB5A', 'dash': 'solid', 'width': 1},\n",
    "    'type': 'line',\n",
    "    'x0': df[df[\"converted\"]==0].age.mean(),\n",
    "    'x1': df[df[\"converted\"]==0].age.mean(),\n",
    "    'xref': 'x',\n",
    "    'y0': 0,\n",
    "    'y1': 0.90,\n",
    "    'yref': 'paper'}],\n",
    "\n",
    "    # Annotations\n",
    "    annotations=[\n",
    "        dict(\n",
    "            x=df[df[\"converted\"]==1].age.mean(),\n",
    "            y=1,\n",
    "            xref='x',\n",
    "            yref='paper',\n",
    "            text=\"Mean Age of Converted User = {:,.0f}\".format(df[df[\"converted\"]==1].age.mean()),\n",
    "            showarrow=True,\n",
    "            arrowhead=7,\n",
    "            ax=1,\n",
    "            ay=1,\n",
    "            axref='paper',\n",
    "            ayref='paper'\n",
    "        ),\n",
    "        dict(\n",
    "            x=df[df[\"converted\"]==0].age.mean(),\n",
    "            y=0.95,\n",
    "            xref='x',\n",
    "            yref='paper',\n",
    "            text=\"Mean Age of Non-Converted User = {:,.0f}\".format(df[df[\"converted\"]==0].age.mean()),\n",
    "            showarrow=True,\n",
    "            arrowhead=7,\n",
    "            ax=1,\n",
    "            ay=1,\n",
    "            axref='paper',\n",
    "            ayref='paper'\n",
    "        )\n",
    "    ]\n",
    "\n",
    ") \n",
    "\n",
    "fig = go.Figure(data=data, layout=layout)\n",
    "py.iplot(fig)"
   ]
  },
  {
   "cell_type": "code",
   "execution_count": 14,
   "metadata": {
    "collapsed": false
   },
   "outputs": [
    {
     "data": {
      "text/plain": [
       "<matplotlib.text.Text at 0x10d55da0>"
      ]
     },
     "execution_count": 14,
     "metadata": {},
     "output_type": "execute_result"
    },
    {
     "data": {
      "image/png": "[encoded data removed]",
      "text/plain": [
       "<matplotlib.figure.Figure at 0xae504a8>"
      ]
     },
     "metadata": {},
     "output_type": "display_data"
    }
   ],
   "source": [
    "# converted user\n",
    "df[df[\"converted\"]==1].age.hist(normed=True, bins=20, range=(10,80), color='blue', alpha=0.5, figsize=(10,6))\n",
    "df[df[\"converted\"]==1].age.plot(kind='kde', xlim=(10,80), style='b--', label=\"Converted\")\n",
    "\n",
    "# non-converted user\n",
    "df[df[\"converted\"]==0].age.hist(normed=True, bins=20, range=(10,80), color='orange', alpha=0.5, figsize=(10,6))\n",
    "df[df[\"converted\"]==0].age.plot(kind='kde', xlim=(10,80), style='y--', label=\"Non-Converted\")\n",
    "\n",
    "# Legends and labels\n",
    "plt.xlabel(\"Age\")\n",
    "plt.legend()\n",
    "plt.title(\"Age Profile of Converted vs. Non-Converted Users\")"
   ]
  },
  {
   "cell_type": "markdown",
   "metadata": {},
   "source": [
    "#### Looking at the above:\n",
    "- Overall the site has a young userbase\n",
    "- We can see that the site is more successful at converting younger people, whereas older people have more difficulty converting"
   ]
  },
  {
   "cell_type": "markdown",
   "metadata": {},
   "source": [
    "## 3. Modelling"
   ]
  },
  {
   "cell_type": "markdown",
   "metadata": {},
   "source": [
    "### 3.1 Import Libraries"
   ]
  },
  {
   "cell_type": "code",
   "execution_count": 15,
   "metadata": {
    "collapsed": true
   },
   "outputs": [],
   "source": [
    "from collections import defaultdict\n",
    "from sklearn.preprocessing import LabelEncoder\n",
    "from sklearn.preprocessing import MinMaxScaler\n",
    "from sklearn.neural_network import MLPClassifier\n",
    "from sklearn.neighbors import KNeighborsClassifier\n",
    "from sklearn.linear_model import LogisticRegression\n",
    "from sklearn.svm import SVC\n",
    "from sklearn.gaussian_process import GaussianProcessClassifier\n",
    "from sklearn.gaussian_process.kernels import RBF\n",
    "from sklearn.tree import DecisionTreeClassifier\n",
    "from sklearn.ensemble import RandomForestClassifier, AdaBoostClassifier, GradientBoostingRegressor\n",
    "from sklearn.naive_bayes import GaussianNB\n",
    "from sklearn.discriminant_analysis import QuadraticDiscriminantAnalysis\n",
    "from sklearn.model_selection import train_test_split\n",
    "from sklearn.metrics import classification_report\n",
    "from sklearn.metrics import f1_score\n",
    "from sklearn.ensemble.partial_dependence import plot_partial_dependence\n",
    "from sklearn.ensemble.partial_dependence import partial_dependence\n",
    "from sklearn.model_selection import GridSearchCV"
   ]
  },
  {
   "cell_type": "markdown",
   "metadata": {},
   "source": [
    "### 3.2 Encode non-numerical features\n",
    "- Encode non-numerical variables for use in ML algorithms"
   ]
  },
  {
   "cell_type": "code",
   "execution_count": 16,
   "metadata": {
    "collapsed": false
   },
   "outputs": [
    {
     "data": {
      "text/html": [
       "<div>\n",
       "<table border=\"1\" class=\"dataframe\">\n",
       "  <thead>\n",
       "    <tr style=\"text-align: right;\">\n",
       "      <th></th>\n",
       "      <th>country</th>\n",
       "      <th>age</th>\n",
       "      <th>new_user</th>\n",
       "      <th>source</th>\n",
       "      <th>total_pages_visited</th>\n",
       "      <th>converted</th>\n",
       "    </tr>\n",
       "  </thead>\n",
       "  <tbody>\n",
       "    <tr>\n",
       "      <th>0</th>\n",
       "      <td>UK</td>\n",
       "      <td>25</td>\n",
       "      <td>1</td>\n",
       "      <td>Ads</td>\n",
       "      <td>1</td>\n",
       "      <td>0</td>\n",
       "    </tr>\n",
       "    <tr>\n",
       "      <th>1</th>\n",
       "      <td>US</td>\n",
       "      <td>23</td>\n",
       "      <td>1</td>\n",
       "      <td>Seo</td>\n",
       "      <td>5</td>\n",
       "      <td>0</td>\n",
       "    </tr>\n",
       "    <tr>\n",
       "      <th>2</th>\n",
       "      <td>US</td>\n",
       "      <td>28</td>\n",
       "      <td>1</td>\n",
       "      <td>Seo</td>\n",
       "      <td>4</td>\n",
       "      <td>0</td>\n",
       "    </tr>\n",
       "    <tr>\n",
       "      <th>3</th>\n",
       "      <td>China</td>\n",
       "      <td>39</td>\n",
       "      <td>1</td>\n",
       "      <td>Seo</td>\n",
       "      <td>5</td>\n",
       "      <td>0</td>\n",
       "    </tr>\n",
       "    <tr>\n",
       "      <th>4</th>\n",
       "      <td>US</td>\n",
       "      <td>30</td>\n",
       "      <td>1</td>\n",
       "      <td>Seo</td>\n",
       "      <td>6</td>\n",
       "      <td>0</td>\n",
       "    </tr>\n",
       "  </tbody>\n",
       "</table>\n",
       "</div>"
      ],
      "text/plain": [
       "  country  age  new_user source  total_pages_visited  converted\n",
       "0      UK   25         1    Ads                    1          0\n",
       "1      US   23         1    Seo                    5          0\n",
       "2      US   28         1    Seo                    4          0\n",
       "3   China   39         1    Seo                    5          0\n",
       "4      US   30         1    Seo                    6          0"
      ]
     },
     "execution_count": 16,
     "metadata": {},
     "output_type": "execute_result"
    }
   ],
   "source": [
    "df.head()"
   ]
  },
  {
   "cell_type": "code",
   "execution_count": 17,
   "metadata": {
    "collapsed": false
   },
   "outputs": [
    {
     "data": {
      "text/html": [
       "<div>\n",
       "<table border=\"1\" class=\"dataframe\">\n",
       "  <thead>\n",
       "    <tr style=\"text-align: right;\">\n",
       "      <th></th>\n",
       "      <th>country</th>\n",
       "      <th>age</th>\n",
       "      <th>new_user</th>\n",
       "      <th>source</th>\n",
       "      <th>total_pages_visited</th>\n",
       "      <th>converted</th>\n",
       "    </tr>\n",
       "  </thead>\n",
       "  <tbody>\n",
       "    <tr>\n",
       "      <th>0</th>\n",
       "      <td>2</td>\n",
       "      <td>8</td>\n",
       "      <td>1</td>\n",
       "      <td>0</td>\n",
       "      <td>0</td>\n",
       "      <td>0</td>\n",
       "    </tr>\n",
       "    <tr>\n",
       "      <th>1</th>\n",
       "      <td>3</td>\n",
       "      <td>6</td>\n",
       "      <td>1</td>\n",
       "      <td>2</td>\n",
       "      <td>4</td>\n",
       "      <td>0</td>\n",
       "    </tr>\n",
       "    <tr>\n",
       "      <th>2</th>\n",
       "      <td>3</td>\n",
       "      <td>11</td>\n",
       "      <td>1</td>\n",
       "      <td>2</td>\n",
       "      <td>3</td>\n",
       "      <td>0</td>\n",
       "    </tr>\n",
       "    <tr>\n",
       "      <th>3</th>\n",
       "      <td>0</td>\n",
       "      <td>22</td>\n",
       "      <td>1</td>\n",
       "      <td>2</td>\n",
       "      <td>4</td>\n",
       "      <td>0</td>\n",
       "    </tr>\n",
       "    <tr>\n",
       "      <th>4</th>\n",
       "      <td>3</td>\n",
       "      <td>13</td>\n",
       "      <td>1</td>\n",
       "      <td>2</td>\n",
       "      <td>5</td>\n",
       "      <td>0</td>\n",
       "    </tr>\n",
       "  </tbody>\n",
       "</table>\n",
       "</div>"
      ],
      "text/plain": [
       "   country  age  new_user  source  total_pages_visited  converted\n",
       "0        2    8         1       0                    0          0\n",
       "1        3    6         1       2                    4          0\n",
       "2        3   11         1       2                    3          0\n",
       "3        0   22         1       2                    4          0\n",
       "4        3   13         1       2                    5          0"
      ]
     },
     "execution_count": 17,
     "metadata": {},
     "output_type": "execute_result"
    }
   ],
   "source": [
    "from collections import defaultdict\n",
    "d = defaultdict(LabelEncoder)\n",
    "\n",
    "# Encoding the variable\n",
    "df = df.apply(lambda x: d[x.name].fit_transform(x))\n",
    "\n",
    "# Use code below to reverse encoding\n",
    "# return2orig = df.apply(lambda x: d[x.name].inverse_transform(x))\n",
    "\n",
    "df.head()"
   ]
  },
  {
   "cell_type": "markdown",
   "metadata": {},
   "source": [
    "### 3.3 Random Forest parameter search\n",
    "- Choose a random forest model to predict conversion rate\n",
    "- RF chosen as it is strong with outliers, irrelevant variables, continuous and discrete variables\n",
    "- Perform parameter testing using 15-fold cross-validation"
   ]
  },
  {
   "cell_type": "code",
   "execution_count": 18,
   "metadata": {
    "collapsed": true
   },
   "outputs": [],
   "source": [
    "# first create a feature list\n",
    "\n",
    "features = [\"country\", \"age\", \"source\", \"new_user\", \"total_pages_visited\"]"
   ]
  },
  {
   "cell_type": "code",
   "execution_count": 19,
   "metadata": {
    "collapsed": false
   },
   "outputs": [],
   "source": [
    "def model_param_search(df, features, target, classifier, param_grid):\n",
    "    \"\"\"Test our various models\"\"\"\n",
    "    \n",
    "    # split our data into train and test split, set random_state=1 so we can repeat analysis\n",
    "    train, test = train_test_split(df, test_size=0.3) \n",
    "           \n",
    "    # assign our features and target variables\n",
    "    X_test = test[features]\n",
    "    y_test = test[target]    \n",
    "    X_train = train[features]\n",
    "    y_train = train[target]\n",
    "    \n",
    "    #scale the features\n",
    "    min_max_scaler = MinMaxScaler()\n",
    "    X_train = min_max_scaler.fit_transform(X_train) \n",
    "    X_test = min_max_scaler.transform(X_test)\n",
    "\n",
    "    # Set the parameters by cross-validation\n",
    "    param_grid = param_grid\n",
    "    \n",
    "    scores = ['precision', 'recall']\n",
    "\n",
    "    for score in scores:\n",
    "        print \"# Tuning hyper-parameters for %s\" % score\n",
    "        \n",
    "        clf = GridSearchCV(classifier, param_grid, cv=15,\n",
    "                       scoring='%s_macro' % score)\n",
    "        clf.fit(X_train, y_train)\n",
    "\n",
    "        print \"Best Accuracy: %.2f%%\" % clf.best_score_\n",
    "        print \"Best parameters set found on development set:\"\n",
    "        print  \n",
    "        print clf.best_params_\n",
    "     \n",
    "        y_true, y_pred = y_test, clf.predict(X_test)\n",
    "        print \"Detailed classification report:\"\n",
    "        print \"\"\n",
    "        print \"The model is trained on the full development set.\"\n",
    "        print \"The scores are computed on the full evaluation set.\"\n",
    "        print \"\"\n",
    "        print classification_report(y_true, y_pred), \"\\n\\n\""
   ]
  },
  {
   "cell_type": "code",
   "execution_count": 20,
   "metadata": {
    "collapsed": false
   },
   "outputs": [],
   "source": [
    "# define the parameter values that should be searched\n",
    "randforest_param_grid = {\"max_depth\": [None, 5],\n",
    "                         \"n_estimators\": [10, 100],\n",
    "                         \"min_samples_split\": [2, 10]\n",
    "                        }\n",
    "\n",
    "randforest = RandomForestClassifier()"
   ]
  },
  {
   "cell_type": "code",
   "execution_count": 21,
   "metadata": {
    "collapsed": false
   },
   "outputs": [
    {
     "name": "stdout",
     "output_type": "stream",
     "text": [
      "# Tuning hyper-parameters for precision\n",
      "Best Accuracy: 0.93%\n",
      "Best parameters set found on development set:\n",
      "\n",
      "{'min_samples_split': 10, 'n_estimators': 100, 'max_depth': 5}\n",
      "Detailed classification report:\n",
      "\n",
      "The model is trained on the full development set.\n",
      "The scores are computed on the full evaluation set.\n",
      "\n",
      "             precision    recall  f1-score   support\n",
      "\n",
      "          0       0.99      1.00      0.99     91727\n",
      "          1       0.87      0.66      0.75      3133\n",
      "\n",
      "avg / total       0.98      0.99      0.98     94860\n",
      "\n",
      "\n",
      "\n",
      "# Tuning hyper-parameters for recall\n",
      "Best Accuracy: 0.84%\n",
      "Best parameters set found on development set:\n",
      "\n",
      "{'min_samples_split': 10, 'n_estimators': 10, 'max_depth': None}\n",
      "Detailed classification report:\n",
      "\n",
      "The model is trained on the full development set.\n",
      "The scores are computed on the full evaluation set.\n",
      "\n",
      "             precision    recall  f1-score   support\n",
      "\n",
      "          0       0.99      1.00      0.99     91727\n",
      "          1       0.84      0.69      0.76      3133\n",
      "\n",
      "avg / total       0.98      0.99      0.98     94860\n",
      "\n",
      "\n",
      "\n",
      "Wall time: 58min 53s\n"
     ]
    }
   ],
   "source": [
    "%%time\n",
    "model_param_search(df, features, \"converted\", randforest, randforest_param_grid)"
   ]
  },
  {
   "cell_type": "markdown",
   "metadata": {},
   "source": [
    "#### Looking at the above:\n",
    "- The optimum hyper-parameters have been identified and will be used in subsequent modelling"
   ]
  },
  {
   "cell_type": "markdown",
   "metadata": {},
   "source": [
    "### 3.4 Random Forest Feature Importances"
   ]
  },
  {
   "cell_type": "code",
   "execution_count": 22,
   "metadata": {
    "collapsed": true
   },
   "outputs": [],
   "source": [
    "def RandForest_feature_importance(df, features, target):\n",
    "    '''Look at the decision tree coefficients\n",
    "    s is eqaul to the min_samples_split parameter'''\n",
    "    \n",
    "    # split our data into train and test split, can set random_state=1 if repeat analysis desired\n",
    "    train, test = train_test_split(df, test_size=0.3) \n",
    "           \n",
    "    # assign our features and target variables\n",
    "    X_test = test[features]\n",
    "    y_test = test[target]    \n",
    "    X_train = train[features]\n",
    "    y_train = train[target]\n",
    "    \n",
    "    # scale the features\n",
    "    min_max_scaler = MinMaxScaler()\n",
    "    X_test = min_max_scaler.fit_transform(X_test) \n",
    "    X_train = min_max_scaler.fit_transform(X_train)\n",
    "    \n",
    "    clf =  RandomForestClassifier(min_samples_split=10, n_estimators=100, max_depth=5)\n",
    "\n",
    "    clf.fit(X_train, y_train)\n",
    "        \n",
    "    #get an accuracy score\n",
    "    score = clf.score(X_test, y_test)\n",
    "    \n",
    "    # get the feature coefficients\n",
    "    feature_importance = clf.feature_importances_\n",
    "    \n",
    "    # create a dictionary to then print a sorted list of coefficients\n",
    "    feature_dict = {}\n",
    "        \n",
    "    for k,v in sorted(zip(features, feature_importance)):\n",
    "        feature_dict[k]=v\n",
    "    \n",
    "    import operator\n",
    "    sorted_dict = sorted(feature_dict.items(), reverse=True, key=operator.itemgetter(1)) \n",
    "       \n",
    "    print \"accuracy_score: %.4f%%\\n\" %score\n",
    "    for k,v in sorted_dict:\n",
    "        print k,v\n",
    "        \n",
    "    D = dict(sorted_dict)\n",
    "    \n",
    "    plt.barh(range(len(D)), D.values(), align='center')\n",
    "    plt.yticks(range(len(D)), D.keys())\n",
    "    plt.tight_layout()\n",
    "    plt.title(\"Model Feature Importances\")\n",
    "\n",
    "    plt.show()  "
   ]
  },
  {
   "cell_type": "code",
   "execution_count": 23,
   "metadata": {
    "collapsed": false
   },
   "outputs": [
    {
     "name": "stdout",
     "output_type": "stream",
     "text": [
      "accuracy_score: 0.9854%\n",
      "\n",
      "total_pages_visited 0.921809991475\n",
      "new_user 0.0362097179741\n",
      "country 0.0276980894184\n",
      "age 0.0139641553772\n",
      "source 0.000318045755366\n"
     ]
    },
    {
     "data": {
      "image/png": "[encoded data removed]",
      "text/plain": [
       "<matplotlib.figure.Figure at 0x11d38160>"
      ]
     },
     "metadata": {},
     "output_type": "display_data"
    }
   ],
   "source": [
    "RandForest_feature_importance(df, features, \"converted\")"
   ]
  },
  {
   "cell_type": "code",
   "execution_count": 29,
   "metadata": {
    "collapsed": false
   },
   "outputs": [
    {
     "name": "stdout",
     "output_type": "stream",
     "text": [
      "accuracy_score: 0.9857%\n",
      "\n",
      "total_pages_visited 0.905765776531\n",
      "new_user 0.0435284792853\n",
      "country 0.0322708446305\n",
      "age 0.0181029430567\n",
      "source 0.00033195649639\n"
     ]
    },
    {
     "data": {
      "image/png": "[encoded data removed]",
      "text/plain": [
       "<matplotlib.figure.Figure at 0x11d31f98>"
      ]
     },
     "metadata": {},
     "output_type": "display_data"
    }
   ],
   "source": [
    "RandForest_feature_importance2(df, features, \"converted\")"
   ]
  },
  {
   "cell_type": "markdown",
   "metadata": {},
   "source": [
    "#### Looking at the above:\n",
    "- The total number of pages visited is by far the most important feature\n",
    "- However, this is also the least \"actionable\" piece of information\n",
    "- The conversion process itself likely requires people to visit more pages\n",
    "- Let's remove this feature and analyse results again"
   ]
  },
  {
   "cell_type": "markdown",
   "metadata": {},
   "source": [
    "### 3.5 Remove \"number of clicks\" feature"
   ]
  },
  {
   "cell_type": "code",
   "execution_count": 24,
   "metadata": {
    "collapsed": true
   },
   "outputs": [],
   "source": [
    "features_2 = ['country', 'age', 'source', 'new_user']"
   ]
  },
  {
   "cell_type": "code",
   "execution_count": 25,
   "metadata": {
    "collapsed": false
   },
   "outputs": [
    {
     "name": "stdout",
     "output_type": "stream",
     "text": [
      "accuracy_score: 0.9677%\n",
      "\n",
      "new_user 0.497561895876\n",
      "country 0.269579774603\n",
      "age 0.226011309164\n",
      "source 0.00684702035704\n"
     ]
    },
    {
     "data": {
      "image/png": "[encoded data removed]",
      "text/plain": [
       "<matplotlib.figure.Figure at 0x1722fd30>"
      ]
     },
     "metadata": {},
     "output_type": "display_data"
    }
   ],
   "source": [
    "RandForest_feature_importance(df, features_2, \"converted\")"
   ]
  },
  {
   "cell_type": "markdown",
   "metadata": {},
   "source": [
    "#### Looking at the above:\n",
    "- Removing the \"total_pages_visited\" feature means that \"new_user\" is now the most important feature\n",
    "- The source (Ads, Seo, Direct) is negligible."
   ]
  },
  {
   "cell_type": "markdown",
   "metadata": {},
   "source": [
    "### 3.6 Partial Dependence plots\n",
    "- Look at trends of partial dependency plots"
   ]
  },
  {
   "cell_type": "code",
   "execution_count": 26,
   "metadata": {
    "collapsed": false
   },
   "outputs": [],
   "source": [
    "def partial_dep_plot(df, features, target):\n",
    "    \n",
    "    # split our data into train and test split, can set random_state=1 if repeat analysis desired\n",
    "    train, test = train_test_split(df, test_size=0.3, random_state=1) \n",
    "           \n",
    "    # assign our features and target variables\n",
    "    X_test = test[features]\n",
    "    y_test = test[target]    \n",
    "    X_train = train[features]\n",
    "    y_train = train[target]\n",
    "\n",
    "    clf = GradientBoostingRegressor()\n",
    "    \n",
    "    clf.fit(X_train, y_train)\n",
    "    \n",
    "    # Now for partial dependence plots\n",
    "    \n",
    "    names = [\"country\", \"age\", \"source\", \"new_user\", \"total_pages_visited\"]\n",
    "    \n",
    "    fig, axs = plot_partial_dependence(clf, X_train, features,\n",
    "                                       feature_names=names,\n",
    "                                       n_cols=2, grid_resolution=5, figsize=(10,10))\n",
    "       \n",
    "    plt.tight_layout(pad=1.0, w_pad=5.0 ,h_pad=5.0)\n",
    "    \n",
    "    plt.show()"
   ]
  },
  {
   "cell_type": "code",
   "execution_count": 27,
   "metadata": {
    "collapsed": false
   },
   "outputs": [
    {
     "data": {
      "image/png": "[encoded data removed]",
      "text/plain": [
       "<matplotlib.figure.Figure at 0x147d4470>"
      ]
     },
     "metadata": {},
     "output_type": "display_data"
    }
   ],
   "source": [
    "partial_dep_plot(df, features, \"converted\")"
   ]
  },
  {
   "cell_type": "markdown",
   "metadata": {},
   "source": [
    "#### Looking at the above:\n",
    "- The partial dependence plots confirm the results obtained in section 2 and the results of our random forest model:\n",
    "    - China has a very poor conversion ratio\n",
    "    - Return visitors are more likely to convert\n",
    "    - The source (Ad, direct, SEO) is irrelevant\n",
    "    - Younger people are more likely to convert"
   ]
  },
  {
   "cell_type": "markdown",
   "metadata": {},
   "source": [
    "## 4.0 Conclusions & Suggestions \n",
    "- Generally conclusions fall into 2 categories:\n",
    "    - Advise marketing to squeeze more out of well performing segments\n",
    "    - Advise product to fix the user experience for bad performing segments\n",
    "\n",
    "\n",
    "1. The Chinese version of the sites is performing atrociously. Translation? Payment Issue? Given the huge amount of users from China, fixing this should be a priority.\n",
    "\n",
    "2. Germans have a very high conversion rate, although not many Germans are visiting the site, increase marketing to Germans.\n",
    "\n",
    "3. Returning users more likely to convert, perhaps targeted offers via email.\n",
    "\n",
    "4. The younger you are the more likely you are to convert. Increase marketing towards younger users and also check the UI to see if there is something causing the poor conversion of older users.\n",
    "\n",
    "5. If a user has vistied many pages but has failed to convert, then they almost surely have high purchase intent, perhaps targeted offers to this group via email.\n",
    "\n",
    "6. The source's effect on conversion is minimal. Therefore perhaps focus on obtaining more visitors from the most cost efficient source."
   ]
  },
  {
   "cell_type": "code",
   "execution_count": null,
   "metadata": {
    "collapsed": true
   },
   "outputs": [],
   "source": []
  }
 ],
 "metadata": {
  "kernelspec": {
   "display_name": "Python 2",
   "language": "python",
   "name": "python2"
  },
  "language_info": {
   "codemirror_mode": {
    "name": "ipython",
    "version": 2
   },
   "file_extension": ".py",
   "mimetype": "text/x-python",
   "name": "python",
   "nbconvert_exporter": "python",
   "pygments_lexer": "ipython2",
   "version": "2.7.12"
  }
 },
 "nbformat": 4,
 "nbformat_minor": 0
}
